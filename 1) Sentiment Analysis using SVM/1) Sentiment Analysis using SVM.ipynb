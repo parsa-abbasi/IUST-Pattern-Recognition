{
  "nbformat": 4,
  "nbformat_minor": 0,
  "metadata": {
    "accelerator": "GPU",
    "colab": {
      "name": "PR-P1.ipynb",
      "provenance": [],
      "collapsed_sections": [],
      "toc_visible": true
    },
    "kernelspec": {
      "display_name": "Python 3",
      "name": "python3"
    },
    "widgets": {
      "application/vnd.jupyter.widget-state+json": {
        "0af1f7b868b143b6b9848e86595b532b": {
          "model_module": "@jupyter-widgets/controls",
          "model_name": "HBoxModel",
          "state": {
            "_dom_classes": [],
            "_model_module": "@jupyter-widgets/controls",
            "_model_module_version": "1.5.0",
            "_model_name": "HBoxModel",
            "_view_count": null,
            "_view_module": "@jupyter-widgets/controls",
            "_view_module_version": "1.5.0",
            "_view_name": "HBoxView",
            "box_style": "",
            "children": [
              "IPY_MODEL_88b71f4fd2184421ae0c4c3daa463c11",
              "IPY_MODEL_83f5a2843a384fc085e58c507024b89e"
            ],
            "layout": "IPY_MODEL_7aa11038f9744b5f889083b0cf839927"
          }
        },
        "88b71f4fd2184421ae0c4c3daa463c11": {
          "model_module": "@jupyter-widgets/controls",
          "model_name": "FloatProgressModel",
          "state": {
            "_dom_classes": [],
            "_model_module": "@jupyter-widgets/controls",
            "_model_module_version": "1.5.0",
            "_model_name": "FloatProgressModel",
            "_view_count": null,
            "_view_module": "@jupyter-widgets/controls",
            "_view_module_version": "1.5.0",
            "_view_name": "ProgressView",
            "bar_style": "success",
            "description": "Batches: 100%",
            "description_tooltip": null,
            "layout": "IPY_MODEL_8f73f6bb74ec44d6944cd70d15b282bb",
            "max": 1250,
            "min": 0,
            "orientation": "horizontal",
            "style": "IPY_MODEL_010708a740da4820a02c5d020e9bf850",
            "value": 1250
          }
        },
        "83f5a2843a384fc085e58c507024b89e": {
          "model_module": "@jupyter-widgets/controls",
          "model_name": "HTMLModel",
          "state": {
            "_dom_classes": [],
            "_model_module": "@jupyter-widgets/controls",
            "_model_module_version": "1.5.0",
            "_model_name": "HTMLModel",
            "_view_count": null,
            "_view_module": "@jupyter-widgets/controls",
            "_view_module_version": "1.5.0",
            "_view_name": "HTMLView",
            "description": "",
            "description_tooltip": null,
            "layout": "IPY_MODEL_1e3632f421ce469184bd6751a9c5f193",
            "placeholder": "​",
            "style": "IPY_MODEL_746afc204c7b4e98bac766456d4725eb",
            "value": " 1250/1250 [19:47&lt;00:00,  1.05it/s]"
          }
        },
        "7aa11038f9744b5f889083b0cf839927": {
          "model_module": "@jupyter-widgets/base",
          "model_name": "LayoutModel",
          "state": {
            "_model_module": "@jupyter-widgets/base",
            "_model_module_version": "1.2.0",
            "_model_name": "LayoutModel",
            "_view_count": null,
            "_view_module": "@jupyter-widgets/base",
            "_view_module_version": "1.2.0",
            "_view_name": "LayoutView",
            "align_content": null,
            "align_items": null,
            "align_self": null,
            "border": null,
            "bottom": null,
            "display": null,
            "flex": null,
            "flex_flow": null,
            "grid_area": null,
            "grid_auto_columns": null,
            "grid_auto_flow": null,
            "grid_auto_rows": null,
            "grid_column": null,
            "grid_gap": null,
            "grid_row": null,
            "grid_template_areas": null,
            "grid_template_columns": null,
            "grid_template_rows": null,
            "height": null,
            "justify_content": null,
            "justify_items": null,
            "left": null,
            "margin": null,
            "max_height": null,
            "max_width": null,
            "min_height": null,
            "min_width": null,
            "object_fit": null,
            "object_position": null,
            "order": null,
            "overflow": null,
            "overflow_x": null,
            "overflow_y": null,
            "padding": null,
            "right": null,
            "top": null,
            "visibility": null,
            "width": null
          }
        },
        "8f73f6bb74ec44d6944cd70d15b282bb": {
          "model_module": "@jupyter-widgets/base",
          "model_name": "LayoutModel",
          "state": {
            "_model_module": "@jupyter-widgets/base",
            "_model_module_version": "1.2.0",
            "_model_name": "LayoutModel",
            "_view_count": null,
            "_view_module": "@jupyter-widgets/base",
            "_view_module_version": "1.2.0",
            "_view_name": "LayoutView",
            "align_content": null,
            "align_items": null,
            "align_self": null,
            "border": null,
            "bottom": null,
            "display": null,
            "flex": null,
            "flex_flow": null,
            "grid_area": null,
            "grid_auto_columns": null,
            "grid_auto_flow": null,
            "grid_auto_rows": null,
            "grid_column": null,
            "grid_gap": null,
            "grid_row": null,
            "grid_template_areas": null,
            "grid_template_columns": null,
            "grid_template_rows": null,
            "height": null,
            "justify_content": null,
            "justify_items": null,
            "left": null,
            "margin": null,
            "max_height": null,
            "max_width": null,
            "min_height": null,
            "min_width": null,
            "object_fit": null,
            "object_position": null,
            "order": null,
            "overflow": null,
            "overflow_x": null,
            "overflow_y": null,
            "padding": null,
            "right": null,
            "top": null,
            "visibility": null,
            "width": null
          }
        },
        "010708a740da4820a02c5d020e9bf850": {
          "model_module": "@jupyter-widgets/controls",
          "model_name": "ProgressStyleModel",
          "state": {
            "_model_module": "@jupyter-widgets/controls",
            "_model_module_version": "1.5.0",
            "_model_name": "ProgressStyleModel",
            "_view_count": null,
            "_view_module": "@jupyter-widgets/base",
            "_view_module_version": "1.2.0",
            "_view_name": "StyleView",
            "bar_color": null,
            "description_width": "initial"
          }
        },
        "1e3632f421ce469184bd6751a9c5f193": {
          "model_module": "@jupyter-widgets/base",
          "model_name": "LayoutModel",
          "state": {
            "_model_module": "@jupyter-widgets/base",
            "_model_module_version": "1.2.0",
            "_model_name": "LayoutModel",
            "_view_count": null,
            "_view_module": "@jupyter-widgets/base",
            "_view_module_version": "1.2.0",
            "_view_name": "LayoutView",
            "align_content": null,
            "align_items": null,
            "align_self": null,
            "border": null,
            "bottom": null,
            "display": null,
            "flex": null,
            "flex_flow": null,
            "grid_area": null,
            "grid_auto_columns": null,
            "grid_auto_flow": null,
            "grid_auto_rows": null,
            "grid_column": null,
            "grid_gap": null,
            "grid_row": null,
            "grid_template_areas": null,
            "grid_template_columns": null,
            "grid_template_rows": null,
            "height": null,
            "justify_content": null,
            "justify_items": null,
            "left": null,
            "margin": null,
            "max_height": null,
            "max_width": null,
            "min_height": null,
            "min_width": null,
            "object_fit": null,
            "object_position": null,
            "order": null,
            "overflow": null,
            "overflow_x": null,
            "overflow_y": null,
            "padding": null,
            "right": null,
            "top": null,
            "visibility": null,
            "width": null
          }
        },
        "746afc204c7b4e98bac766456d4725eb": {
          "model_module": "@jupyter-widgets/controls",
          "model_name": "DescriptionStyleModel",
          "state": {
            "_model_module": "@jupyter-widgets/controls",
            "_model_module_version": "1.5.0",
            "_model_name": "DescriptionStyleModel",
            "_view_count": null,
            "_view_module": "@jupyter-widgets/base",
            "_view_module_version": "1.2.0",
            "_view_name": "StyleView",
            "description_width": ""
          }
        },
        "50c26b11117646dda30500e21acbb7aa": {
          "model_module": "@jupyter-widgets/controls",
          "model_name": "HBoxModel",
          "state": {
            "_dom_classes": [],
            "_model_module": "@jupyter-widgets/controls",
            "_model_module_version": "1.5.0",
            "_model_name": "HBoxModel",
            "_view_count": null,
            "_view_module": "@jupyter-widgets/controls",
            "_view_module_version": "1.5.0",
            "_view_name": "HBoxView",
            "box_style": "",
            "children": [
              "IPY_MODEL_9a7d3414436949919f07959150f63d66",
              "IPY_MODEL_c4aedc0f3e524b5b810277a56a710579"
            ],
            "layout": "IPY_MODEL_7b837c7e5d154be0918497dcf780d60e"
          }
        },
        "9a7d3414436949919f07959150f63d66": {
          "model_module": "@jupyter-widgets/controls",
          "model_name": "FloatProgressModel",
          "state": {
            "_dom_classes": [],
            "_model_module": "@jupyter-widgets/controls",
            "_model_module_version": "1.5.0",
            "_model_name": "FloatProgressModel",
            "_view_count": null,
            "_view_module": "@jupyter-widgets/controls",
            "_view_module_version": "1.5.0",
            "_view_name": "ProgressView",
            "bar_style": "success",
            "description": "Batches: 100%",
            "description_tooltip": null,
            "layout": "IPY_MODEL_a89669268b654b9699ef6b8303212811",
            "max": 157,
            "min": 0,
            "orientation": "horizontal",
            "style": "IPY_MODEL_8df514a490f142b1b2bc2eec9054ed21",
            "value": 157
          }
        },
        "c4aedc0f3e524b5b810277a56a710579": {
          "model_module": "@jupyter-widgets/controls",
          "model_name": "HTMLModel",
          "state": {
            "_dom_classes": [],
            "_model_module": "@jupyter-widgets/controls",
            "_model_module_version": "1.5.0",
            "_model_name": "HTMLModel",
            "_view_count": null,
            "_view_module": "@jupyter-widgets/controls",
            "_view_module_version": "1.5.0",
            "_view_name": "HTMLView",
            "description": "",
            "description_tooltip": null,
            "layout": "IPY_MODEL_9dc553c6a8d54c5c89187886de534b98",
            "placeholder": "​",
            "style": "IPY_MODEL_ca5ce4848c904fc7b45d352dc5d0f805",
            "value": " 157/157 [15:03&lt;00:00,  5.76s/it]"
          }
        },
        "7b837c7e5d154be0918497dcf780d60e": {
          "model_module": "@jupyter-widgets/base",
          "model_name": "LayoutModel",
          "state": {
            "_model_module": "@jupyter-widgets/base",
            "_model_module_version": "1.2.0",
            "_model_name": "LayoutModel",
            "_view_count": null,
            "_view_module": "@jupyter-widgets/base",
            "_view_module_version": "1.2.0",
            "_view_name": "LayoutView",
            "align_content": null,
            "align_items": null,
            "align_self": null,
            "border": null,
            "bottom": null,
            "display": null,
            "flex": null,
            "flex_flow": null,
            "grid_area": null,
            "grid_auto_columns": null,
            "grid_auto_flow": null,
            "grid_auto_rows": null,
            "grid_column": null,
            "grid_gap": null,
            "grid_row": null,
            "grid_template_areas": null,
            "grid_template_columns": null,
            "grid_template_rows": null,
            "height": null,
            "justify_content": null,
            "justify_items": null,
            "left": null,
            "margin": null,
            "max_height": null,
            "max_width": null,
            "min_height": null,
            "min_width": null,
            "object_fit": null,
            "object_position": null,
            "order": null,
            "overflow": null,
            "overflow_x": null,
            "overflow_y": null,
            "padding": null,
            "right": null,
            "top": null,
            "visibility": null,
            "width": null
          }
        },
        "a89669268b654b9699ef6b8303212811": {
          "model_module": "@jupyter-widgets/base",
          "model_name": "LayoutModel",
          "state": {
            "_model_module": "@jupyter-widgets/base",
            "_model_module_version": "1.2.0",
            "_model_name": "LayoutModel",
            "_view_count": null,
            "_view_module": "@jupyter-widgets/base",
            "_view_module_version": "1.2.0",
            "_view_name": "LayoutView",
            "align_content": null,
            "align_items": null,
            "align_self": null,
            "border": null,
            "bottom": null,
            "display": null,
            "flex": null,
            "flex_flow": null,
            "grid_area": null,
            "grid_auto_columns": null,
            "grid_auto_flow": null,
            "grid_auto_rows": null,
            "grid_column": null,
            "grid_gap": null,
            "grid_row": null,
            "grid_template_areas": null,
            "grid_template_columns": null,
            "grid_template_rows": null,
            "height": null,
            "justify_content": null,
            "justify_items": null,
            "left": null,
            "margin": null,
            "max_height": null,
            "max_width": null,
            "min_height": null,
            "min_width": null,
            "object_fit": null,
            "object_position": null,
            "order": null,
            "overflow": null,
            "overflow_x": null,
            "overflow_y": null,
            "padding": null,
            "right": null,
            "top": null,
            "visibility": null,
            "width": null
          }
        },
        "8df514a490f142b1b2bc2eec9054ed21": {
          "model_module": "@jupyter-widgets/controls",
          "model_name": "ProgressStyleModel",
          "state": {
            "_model_module": "@jupyter-widgets/controls",
            "_model_module_version": "1.5.0",
            "_model_name": "ProgressStyleModel",
            "_view_count": null,
            "_view_module": "@jupyter-widgets/base",
            "_view_module_version": "1.2.0",
            "_view_name": "StyleView",
            "bar_color": null,
            "description_width": "initial"
          }
        },
        "9dc553c6a8d54c5c89187886de534b98": {
          "model_module": "@jupyter-widgets/base",
          "model_name": "LayoutModel",
          "state": {
            "_model_module": "@jupyter-widgets/base",
            "_model_module_version": "1.2.0",
            "_model_name": "LayoutModel",
            "_view_count": null,
            "_view_module": "@jupyter-widgets/base",
            "_view_module_version": "1.2.0",
            "_view_name": "LayoutView",
            "align_content": null,
            "align_items": null,
            "align_self": null,
            "border": null,
            "bottom": null,
            "display": null,
            "flex": null,
            "flex_flow": null,
            "grid_area": null,
            "grid_auto_columns": null,
            "grid_auto_flow": null,
            "grid_auto_rows": null,
            "grid_column": null,
            "grid_gap": null,
            "grid_row": null,
            "grid_template_areas": null,
            "grid_template_columns": null,
            "grid_template_rows": null,
            "height": null,
            "justify_content": null,
            "justify_items": null,
            "left": null,
            "margin": null,
            "max_height": null,
            "max_width": null,
            "min_height": null,
            "min_width": null,
            "object_fit": null,
            "object_position": null,
            "order": null,
            "overflow": null,
            "overflow_x": null,
            "overflow_y": null,
            "padding": null,
            "right": null,
            "top": null,
            "visibility": null,
            "width": null
          }
        },
        "ca5ce4848c904fc7b45d352dc5d0f805": {
          "model_module": "@jupyter-widgets/controls",
          "model_name": "DescriptionStyleModel",
          "state": {
            "_model_module": "@jupyter-widgets/controls",
            "_model_module_version": "1.5.0",
            "_model_name": "DescriptionStyleModel",
            "_view_count": null,
            "_view_module": "@jupyter-widgets/base",
            "_view_module_version": "1.2.0",
            "_view_name": "StyleView",
            "description_width": ""
          }
        },
        "092a2c910e88445e8cb787dd26fc3867": {
          "model_module": "@jupyter-widgets/controls",
          "model_name": "HBoxModel",
          "state": {
            "_dom_classes": [],
            "_model_module": "@jupyter-widgets/controls",
            "_model_module_version": "1.5.0",
            "_model_name": "HBoxModel",
            "_view_count": null,
            "_view_module": "@jupyter-widgets/controls",
            "_view_module_version": "1.5.0",
            "_view_name": "HBoxView",
            "box_style": "",
            "children": [
              "IPY_MODEL_3269f6894cfe416eac63a663b01ec971",
              "IPY_MODEL_7405c5cd74904bb996b2f873ec5d71e2"
            ],
            "layout": "IPY_MODEL_be406843d2ee43599d8487c0e1fcbf4d"
          }
        },
        "3269f6894cfe416eac63a663b01ec971": {
          "model_module": "@jupyter-widgets/controls",
          "model_name": "FloatProgressModel",
          "state": {
            "_dom_classes": [],
            "_model_module": "@jupyter-widgets/controls",
            "_model_module_version": "1.5.0",
            "_model_name": "FloatProgressModel",
            "_view_count": null,
            "_view_module": "@jupyter-widgets/controls",
            "_view_module_version": "1.5.0",
            "_view_name": "ProgressView",
            "bar_style": "success",
            "description": "Batches: 100%",
            "description_tooltip": null,
            "layout": "IPY_MODEL_b6e39481f7c54fcaa9c1ac73c348af0a",
            "max": 157,
            "min": 0,
            "orientation": "horizontal",
            "style": "IPY_MODEL_549858550634426f8ad8241ae79d510b",
            "value": 157
          }
        },
        "7405c5cd74904bb996b2f873ec5d71e2": {
          "model_module": "@jupyter-widgets/controls",
          "model_name": "HTMLModel",
          "state": {
            "_dom_classes": [],
            "_model_module": "@jupyter-widgets/controls",
            "_model_module_version": "1.5.0",
            "_model_name": "HTMLModel",
            "_view_count": null,
            "_view_module": "@jupyter-widgets/controls",
            "_view_module_version": "1.5.0",
            "_view_name": "HTMLView",
            "description": "",
            "description_tooltip": null,
            "layout": "IPY_MODEL_2434d59467ed4d10bf57c85cc5dfc72a",
            "placeholder": "​",
            "style": "IPY_MODEL_f0400c6ded714d9da184c521a3793903",
            "value": " 157/157 [14:27&lt;00:00,  5.53s/it]"
          }
        },
        "be406843d2ee43599d8487c0e1fcbf4d": {
          "model_module": "@jupyter-widgets/base",
          "model_name": "LayoutModel",
          "state": {
            "_model_module": "@jupyter-widgets/base",
            "_model_module_version": "1.2.0",
            "_model_name": "LayoutModel",
            "_view_count": null,
            "_view_module": "@jupyter-widgets/base",
            "_view_module_version": "1.2.0",
            "_view_name": "LayoutView",
            "align_content": null,
            "align_items": null,
            "align_self": null,
            "border": null,
            "bottom": null,
            "display": null,
            "flex": null,
            "flex_flow": null,
            "grid_area": null,
            "grid_auto_columns": null,
            "grid_auto_flow": null,
            "grid_auto_rows": null,
            "grid_column": null,
            "grid_gap": null,
            "grid_row": null,
            "grid_template_areas": null,
            "grid_template_columns": null,
            "grid_template_rows": null,
            "height": null,
            "justify_content": null,
            "justify_items": null,
            "left": null,
            "margin": null,
            "max_height": null,
            "max_width": null,
            "min_height": null,
            "min_width": null,
            "object_fit": null,
            "object_position": null,
            "order": null,
            "overflow": null,
            "overflow_x": null,
            "overflow_y": null,
            "padding": null,
            "right": null,
            "top": null,
            "visibility": null,
            "width": null
          }
        },
        "b6e39481f7c54fcaa9c1ac73c348af0a": {
          "model_module": "@jupyter-widgets/base",
          "model_name": "LayoutModel",
          "state": {
            "_model_module": "@jupyter-widgets/base",
            "_model_module_version": "1.2.0",
            "_model_name": "LayoutModel",
            "_view_count": null,
            "_view_module": "@jupyter-widgets/base",
            "_view_module_version": "1.2.0",
            "_view_name": "LayoutView",
            "align_content": null,
            "align_items": null,
            "align_self": null,
            "border": null,
            "bottom": null,
            "display": null,
            "flex": null,
            "flex_flow": null,
            "grid_area": null,
            "grid_auto_columns": null,
            "grid_auto_flow": null,
            "grid_auto_rows": null,
            "grid_column": null,
            "grid_gap": null,
            "grid_row": null,
            "grid_template_areas": null,
            "grid_template_columns": null,
            "grid_template_rows": null,
            "height": null,
            "justify_content": null,
            "justify_items": null,
            "left": null,
            "margin": null,
            "max_height": null,
            "max_width": null,
            "min_height": null,
            "min_width": null,
            "object_fit": null,
            "object_position": null,
            "order": null,
            "overflow": null,
            "overflow_x": null,
            "overflow_y": null,
            "padding": null,
            "right": null,
            "top": null,
            "visibility": null,
            "width": null
          }
        },
        "549858550634426f8ad8241ae79d510b": {
          "model_module": "@jupyter-widgets/controls",
          "model_name": "ProgressStyleModel",
          "state": {
            "_model_module": "@jupyter-widgets/controls",
            "_model_module_version": "1.5.0",
            "_model_name": "ProgressStyleModel",
            "_view_count": null,
            "_view_module": "@jupyter-widgets/base",
            "_view_module_version": "1.2.0",
            "_view_name": "StyleView",
            "bar_color": null,
            "description_width": "initial"
          }
        },
        "2434d59467ed4d10bf57c85cc5dfc72a": {
          "model_module": "@jupyter-widgets/base",
          "model_name": "LayoutModel",
          "state": {
            "_model_module": "@jupyter-widgets/base",
            "_model_module_version": "1.2.0",
            "_model_name": "LayoutModel",
            "_view_count": null,
            "_view_module": "@jupyter-widgets/base",
            "_view_module_version": "1.2.0",
            "_view_name": "LayoutView",
            "align_content": null,
            "align_items": null,
            "align_self": null,
            "border": null,
            "bottom": null,
            "display": null,
            "flex": null,
            "flex_flow": null,
            "grid_area": null,
            "grid_auto_columns": null,
            "grid_auto_flow": null,
            "grid_auto_rows": null,
            "grid_column": null,
            "grid_gap": null,
            "grid_row": null,
            "grid_template_areas": null,
            "grid_template_columns": null,
            "grid_template_rows": null,
            "height": null,
            "justify_content": null,
            "justify_items": null,
            "left": null,
            "margin": null,
            "max_height": null,
            "max_width": null,
            "min_height": null,
            "min_width": null,
            "object_fit": null,
            "object_position": null,
            "order": null,
            "overflow": null,
            "overflow_x": null,
            "overflow_y": null,
            "padding": null,
            "right": null,
            "top": null,
            "visibility": null,
            "width": null
          }
        },
        "f0400c6ded714d9da184c521a3793903": {
          "model_module": "@jupyter-widgets/controls",
          "model_name": "DescriptionStyleModel",
          "state": {
            "_model_module": "@jupyter-widgets/controls",
            "_model_module_version": "1.5.0",
            "_model_name": "DescriptionStyleModel",
            "_view_count": null,
            "_view_module": "@jupyter-widgets/base",
            "_view_module_version": "1.2.0",
            "_view_name": "StyleView",
            "description_width": ""
          }
        }
      }
    }
  },
  "cells": [
    {
      "cell_type": "markdown",
      "metadata": {
        "id": "vSKw0tG6C_wM"
      },
      "source": [
        "# Pattern Recognition - Project #1"
      ]
    },
    {
      "cell_type": "markdown",
      "metadata": {
        "id": "joo5oT1tDOHj"
      },
      "source": [
        "*   **Course:** Pattern Recognition - Fall 2020\n",
        "*   **Instructor:** [Dr. Morteza Analoui](https://www.scopus.com/authid/detail.uri?authorId=16835800400)\n",
        "*   **Teaching Assistants:** Mohammad Pourbagheri, Pedram Dadkhah\n",
        "*   **Student:** [Parsa Abbasi](https://parsa-abbasi.ir/)\n",
        "*   ***Iran University of Science and Technology (IUST)***\n",
        "\n",
        "\n"
      ]
    },
    {
      "cell_type": "code",
      "metadata": {
        "colab": {
          "base_uri": "https://localhost:8080/"
        },
        "id": "99mVC1vC2OKt",
        "outputId": "51d0f79d-6d22-4a81-acee-e7f31ef54701"
      },
      "source": [
        "import re\n",
        "import time\n",
        "from random import shuffle\n",
        "import pandas as pd\n",
        "import numpy as np\n",
        "from numpy import asarray\n",
        "from numpy import savetxt\n",
        "from tqdm import tqdm\n",
        "# Plotting\n",
        "import matplotlib\n",
        "import matplotlib.pyplot as plt\n",
        "from sklearn.metrics import plot_confusion_matrix\n",
        "plt.rcParams['figure.dpi'] = 100\n",
        "# NLP libraries\n",
        "import spacy\n",
        "from spacy.lang.en.stop_words import STOP_WORDS\n",
        "# Embeddings\n",
        "!pip install -U sentence-transformers\n",
        "from sentence_transformers import SentenceTransformer\n",
        "# ML algorithms\n",
        "from sklearn.feature_extraction.text import CountVectorizer\n",
        "from sklearn.feature_extraction.text import TfidfTransformer\n",
        "from sklearn import svm\n",
        "from sklearn.naive_bayes import MultinomialNB, GaussianNB\n",
        "# Hyperparameters tuning\n",
        "!pip install hypopt\n",
        "from hypopt import GridSearch\n",
        "# Metrics\n",
        "from sklearn import metrics\n",
        "from sklearn.metrics import classification_report\n",
        "from sklearn.metrics import precision_recall_fscore_support\n",
        "from sklearn.metrics import accuracy_score,recall_score,precision_score,f1_score\n",
        "from sklearn.metrics import confusion_matrix"
      ],
      "execution_count": null,
      "outputs": [
        {
          "output_type": "stream",
          "text": [
            "Collecting sentence-transformers\n",
            "\u001b[?25l  Downloading https://files.pythonhosted.org/packages/f5/5a/6e41e8383913dd2ba923cdcd02be2e03911595f4d2f9de559ecbed80d2d3/sentence-transformers-0.3.9.tar.gz (64kB)\n",
            "\u001b[K     |████████████████████████████████| 71kB 3.7MB/s \n",
            "\u001b[?25hCollecting transformers<3.6.0,>=3.1.0\n",
            "\u001b[?25l  Downloading https://files.pythonhosted.org/packages/3a/83/e74092e7f24a08d751aa59b37a9fc572b2e4af3918cb66f7766c3affb1b4/transformers-3.5.1-py3-none-any.whl (1.3MB)\n",
            "\u001b[K     |████████████████████████████████| 1.3MB 7.8MB/s \n",
            "\u001b[?25hRequirement already satisfied, skipping upgrade: tqdm in /usr/local/lib/python3.6/dist-packages (from sentence-transformers) (4.41.1)\n",
            "Requirement already satisfied, skipping upgrade: torch>=1.6.0 in /usr/local/lib/python3.6/dist-packages (from sentence-transformers) (1.7.0+cu101)\n",
            "Requirement already satisfied, skipping upgrade: numpy in /usr/local/lib/python3.6/dist-packages (from sentence-transformers) (1.18.5)\n",
            "Requirement already satisfied, skipping upgrade: scikit-learn in /usr/local/lib/python3.6/dist-packages (from sentence-transformers) (0.22.2.post1)\n",
            "Requirement already satisfied, skipping upgrade: scipy in /usr/local/lib/python3.6/dist-packages (from sentence-transformers) (1.4.1)\n",
            "Requirement already satisfied, skipping upgrade: nltk in /usr/local/lib/python3.6/dist-packages (from sentence-transformers) (3.2.5)\n",
            "Requirement already satisfied, skipping upgrade: requests in /usr/local/lib/python3.6/dist-packages (from transformers<3.6.0,>=3.1.0->sentence-transformers) (2.23.0)\n",
            "Requirement already satisfied, skipping upgrade: dataclasses; python_version < \"3.7\" in /usr/local/lib/python3.6/dist-packages (from transformers<3.6.0,>=3.1.0->sentence-transformers) (0.8)\n",
            "Requirement already satisfied, skipping upgrade: packaging in /usr/local/lib/python3.6/dist-packages (from transformers<3.6.0,>=3.1.0->sentence-transformers) (20.7)\n",
            "Collecting sentencepiece==0.1.91\n",
            "\u001b[?25l  Downloading https://files.pythonhosted.org/packages/d4/a4/d0a884c4300004a78cca907a6ff9a5e9fe4f090f5d95ab341c53d28cbc58/sentencepiece-0.1.91-cp36-cp36m-manylinux1_x86_64.whl (1.1MB)\n",
            "\u001b[K     |████████████████████████████████| 1.1MB 33.5MB/s \n",
            "\u001b[?25hCollecting tokenizers==0.9.3\n",
            "\u001b[?25l  Downloading https://files.pythonhosted.org/packages/4c/34/b39eb9994bc3c999270b69c9eea40ecc6f0e97991dba28282b9fd32d44ee/tokenizers-0.9.3-cp36-cp36m-manylinux1_x86_64.whl (2.9MB)\n",
            "\u001b[K     |████████████████████████████████| 2.9MB 54.3MB/s \n",
            "\u001b[?25hRequirement already satisfied, skipping upgrade: protobuf in /usr/local/lib/python3.6/dist-packages (from transformers<3.6.0,>=3.1.0->sentence-transformers) (3.12.4)\n",
            "Requirement already satisfied, skipping upgrade: regex!=2019.12.17 in /usr/local/lib/python3.6/dist-packages (from transformers<3.6.0,>=3.1.0->sentence-transformers) (2019.12.20)\n",
            "Requirement already satisfied, skipping upgrade: filelock in /usr/local/lib/python3.6/dist-packages (from transformers<3.6.0,>=3.1.0->sentence-transformers) (3.0.12)\n",
            "Collecting sacremoses\n",
            "\u001b[?25l  Downloading https://files.pythonhosted.org/packages/7d/34/09d19aff26edcc8eb2a01bed8e98f13a1537005d31e95233fd48216eed10/sacremoses-0.0.43.tar.gz (883kB)\n",
            "\u001b[K     |████████████████████████████████| 890kB 51.4MB/s \n",
            "\u001b[?25hRequirement already satisfied, skipping upgrade: typing-extensions in /usr/local/lib/python3.6/dist-packages (from torch>=1.6.0->sentence-transformers) (3.7.4.3)\n",
            "Requirement already satisfied, skipping upgrade: future in /usr/local/lib/python3.6/dist-packages (from torch>=1.6.0->sentence-transformers) (0.16.0)\n",
            "Requirement already satisfied, skipping upgrade: joblib>=0.11 in /usr/local/lib/python3.6/dist-packages (from scikit-learn->sentence-transformers) (0.17.0)\n",
            "Requirement already satisfied, skipping upgrade: six in /usr/local/lib/python3.6/dist-packages (from nltk->sentence-transformers) (1.15.0)\n",
            "Requirement already satisfied, skipping upgrade: urllib3!=1.25.0,!=1.25.1,<1.26,>=1.21.1 in /usr/local/lib/python3.6/dist-packages (from requests->transformers<3.6.0,>=3.1.0->sentence-transformers) (1.24.3)\n",
            "Requirement already satisfied, skipping upgrade: chardet<4,>=3.0.2 in /usr/local/lib/python3.6/dist-packages (from requests->transformers<3.6.0,>=3.1.0->sentence-transformers) (3.0.4)\n",
            "Requirement already satisfied, skipping upgrade: idna<3,>=2.5 in /usr/local/lib/python3.6/dist-packages (from requests->transformers<3.6.0,>=3.1.0->sentence-transformers) (2.10)\n",
            "Requirement already satisfied, skipping upgrade: certifi>=2017.4.17 in /usr/local/lib/python3.6/dist-packages (from requests->transformers<3.6.0,>=3.1.0->sentence-transformers) (2020.12.5)\n",
            "Requirement already satisfied, skipping upgrade: pyparsing>=2.0.2 in /usr/local/lib/python3.6/dist-packages (from packaging->transformers<3.6.0,>=3.1.0->sentence-transformers) (2.4.7)\n",
            "Requirement already satisfied, skipping upgrade: setuptools in /usr/local/lib/python3.6/dist-packages (from protobuf->transformers<3.6.0,>=3.1.0->sentence-transformers) (50.3.2)\n",
            "Requirement already satisfied, skipping upgrade: click in /usr/local/lib/python3.6/dist-packages (from sacremoses->transformers<3.6.0,>=3.1.0->sentence-transformers) (7.1.2)\n",
            "Building wheels for collected packages: sentence-transformers, sacremoses\n",
            "  Building wheel for sentence-transformers (setup.py) ... \u001b[?25l\u001b[?25hdone\n",
            "  Created wheel for sentence-transformers: filename=sentence_transformers-0.3.9-cp36-none-any.whl size=101034 sha256=c58f085af51203064a5155e00e34be7b60e03dfe7965b1ef6b56431f3d181901\n",
            "  Stored in directory: /root/.cache/pip/wheels/fc/89/43/f2f5bc00b03ef9724b0f6254a97eaf159a4c4ddc024b33e07a\n",
            "  Building wheel for sacremoses (setup.py) ... \u001b[?25l\u001b[?25hdone\n",
            "  Created wheel for sacremoses: filename=sacremoses-0.0.43-cp36-none-any.whl size=893261 sha256=3140cc32da7aca6ac72408c55c810c0959cf5f6d333a7f258fcea41c9dee2465\n",
            "  Stored in directory: /root/.cache/pip/wheels/29/3c/fd/7ce5c3f0666dab31a50123635e6fb5e19ceb42ce38d4e58f45\n",
            "Successfully built sentence-transformers sacremoses\n",
            "Installing collected packages: sentencepiece, tokenizers, sacremoses, transformers, sentence-transformers\n",
            "Successfully installed sacremoses-0.0.43 sentence-transformers-0.3.9 sentencepiece-0.1.91 tokenizers-0.9.3 transformers-3.5.1\n",
            "Collecting hypopt\n",
            "  Downloading https://files.pythonhosted.org/packages/6e/8b/17f9022d94066ec29ab0008ed1ad247615153e5c633c2787255cfe2e95b8/hypopt-1.0.9-py2.py3-none-any.whl\n",
            "Requirement already satisfied: numpy>=1.11.3 in /usr/local/lib/python3.6/dist-packages (from hypopt) (1.18.5)\n",
            "Requirement already satisfied: scikit-learn>=0.18 in /usr/local/lib/python3.6/dist-packages (from hypopt) (0.22.2.post1)\n",
            "Requirement already satisfied: joblib>=0.11 in /usr/local/lib/python3.6/dist-packages (from scikit-learn>=0.18->hypopt) (0.17.0)\n",
            "Requirement already satisfied: scipy>=0.17.0 in /usr/local/lib/python3.6/dist-packages (from scikit-learn>=0.18->hypopt) (1.4.1)\n",
            "Installing collected packages: hypopt\n",
            "Successfully installed hypopt-1.0.9\n"
          ],
          "name": "stdout"
        }
      ]
    },
    {
      "cell_type": "code",
      "metadata": {
        "id": "1Xl0uBEB2_bV"
      },
      "source": [
        "# PyDrive initializaion to uploading csv files into Colaboratory:\n",
        "!pip install -U -q PyDrive\n",
        "from pydrive.auth import GoogleAuth\n",
        "from pydrive.drive import GoogleDrive\n",
        "from google.colab import auth\n",
        "from oauth2client.client import GoogleCredentials\n",
        "\n",
        "# Authenticate and create the PyDrive client.\n",
        "auth.authenticate_user()\n",
        "gauth = GoogleAuth()\n",
        "gauth.credentials = GoogleCredentials.get_application_default()\n",
        "drive = GoogleDrive(gauth)"
      ],
      "execution_count": null,
      "outputs": []
    },
    {
      "cell_type": "markdown",
      "metadata": {
        "id": "Cc_T-cbtF_j0"
      },
      "source": [
        "## Dataset"
      ]
    },
    {
      "cell_type": "markdown",
      "metadata": {
        "id": "E1xQMBntGGiL"
      },
      "source": [
        "The dataset we will use in this project contains more than 50000 movie reviews, and it split up into Train, Validation, and Test sets already.\n",
        "\n",
        "All the movie reviews are long sentences (most of them are longer than 200 words).\n",
        "\n",
        "Each review was labeled as 1 (positive review) or 0 (negative review).\n",
        "\n",
        "\n",
        "\n",
        "*   For more information: https://www.kaggle.com/columbine/imdb-dataset-sentiment-analysis-in-csv-format\n",
        "\n"
      ]
    },
    {
      "cell_type": "code",
      "metadata": {
        "id": "x0ooErnLtX16"
      },
      "source": [
        "# As the preprocessing of whole data takes a long time, we can use saved preprocessed data files\n",
        "using_cleaned_data = True"
      ],
      "execution_count": null,
      "outputs": []
    },
    {
      "cell_type": "markdown",
      "metadata": {
        "id": "k2IFVnE5nqOz"
      },
      "source": [
        "### Getting data from Google Drive"
      ]
    },
    {
      "cell_type": "code",
      "metadata": {
        "id": "JcDXrTnamNhL"
      },
      "source": [
        "if using_cleaned_data:\n",
        "  # Preprocessed dataset files\n",
        "  train_link = '1E7hTJWo4rUeOifkO-ezSX7S2aRYI3jMh'\n",
        "  validation_link = '1K0BX0eiimupOmNRCKPIAVTzkdGEx9nr_'\n",
        "  test_link = '1Da0B24ksG8kstihYf_gYXSjdq66m3ak9'\n",
        "else:\n",
        "  # Original dataset\n",
        "  train_link = '1Rzl9Dat1FAblECENid99dxGEmM72bAGk'\n",
        "  validation_link = '1gCUFcZg4KgkoW0qERGWDMnPit2wZZPm9'\n",
        "  test_link = '1uyNkXJAThToQVs9vW87_dQrcngt6btoP'"
      ],
      "execution_count": null,
      "outputs": []
    },
    {
      "cell_type": "code",
      "metadata": {
        "id": "Q3IK5irEmL4-"
      },
      "source": [
        "# Getting data files and shape them as pandas dataframes\n",
        "downloaded = drive.CreateFile({'id':train_link}) \n",
        "downloaded.GetContentFile('Train.csv')  \n",
        "train = pd.read_csv('Train.csv')\n",
        "\n",
        "downloaded = drive.CreateFile({'id':validation_link}) \n",
        "downloaded.GetContentFile('Valid.csv')  \n",
        "valid = pd.read_csv('Valid.csv')\n",
        "\n",
        "downloaded = drive.CreateFile({'id':test_link}) \n",
        "downloaded.GetContentFile('Test.csv')  \n",
        "test = pd.read_csv('Test.csv')"
      ],
      "execution_count": null,
      "outputs": []
    },
    {
      "cell_type": "markdown",
      "metadata": {
        "id": "MibR49ATX_ZX"
      },
      "source": [
        "### Analyzing dataset"
      ]
    },
    {
      "cell_type": "code",
      "metadata": {
        "id": "EdtbtM7TnJPF"
      },
      "source": [
        "# Getting the number of positive and negative reviews on each data partitions\n",
        "neg_train_num = train.groupby('label').count().iloc[0]['text']\n",
        "neg_valid_num = valid.groupby('label').count().iloc[0]['text']\n",
        "neg_test_num = test.groupby('label').count().iloc[0]['text']\n",
        "pos_train_num = train.groupby('label').count().iloc[1]['text']\n",
        "pos_valid_num = valid.groupby('label').count().iloc[1]['text']\n",
        "pos_test_num = test.groupby('label').count().iloc[1]['text']"
      ],
      "execution_count": null,
      "outputs": []
    },
    {
      "cell_type": "code",
      "metadata": {
        "id": "qkSb8ztVmSa7"
      },
      "source": [
        "labels = ['Train', 'Validation', 'Test']\n",
        "positives = [neg_train_num, neg_valid_num, neg_test_num]\n",
        "negatives = [pos_train_num, pos_valid_num, pos_test_num]"
      ],
      "execution_count": null,
      "outputs": []
    },
    {
      "cell_type": "code",
      "metadata": {
        "colab": {
          "base_uri": "https://localhost:8080/",
          "height": 297
        },
        "id": "HQEtjJ_2WqpM",
        "outputId": "11d80901-022f-4741-9fef-9593ed1993db"
      },
      "source": [
        "x = np.arange(len(labels))  # the label locations\n",
        "width = 0.35  # the width of the bars\n",
        "\n",
        "fig, ax = plt.subplots()\n",
        "rects1 = ax.bar(x - width/2, positives, width, label='Positive', color='seagreen')\n",
        "rects2 = ax.bar(x + width/2, negatives, width, label='Negative', color='firebrick')\n",
        "\n",
        "# Add some text for labels, title and custom x-axis tick labels, etc.\n",
        "ax.set_ylabel('Number of reviews')\n",
        "ax.set_title('Sentiment disturbiton')\n",
        "ax.set_xticks(x)\n",
        "ax.set_xticklabels(labels)\n",
        "ax.legend()\n",
        "\n",
        "def autolabel(rects):\n",
        "    \"\"\"Attach a text label above each bar in *rects*, displaying its height.\"\"\"\n",
        "    for rect in rects:\n",
        "        height = rect.get_height()\n",
        "        ax.annotate('{}'.format(height),\n",
        "                    xy=(rect.get_x() + rect.get_width() / 2, height),\n",
        "                    xytext=(0, 3),  # 3 points vertical offset\n",
        "                    textcoords=\"offset points\",\n",
        "                    ha='center', va='bottom')\n",
        "\n",
        "autolabel(rects1)\n",
        "autolabel(rects2)\n",
        "fig.tight_layout()\n",
        "plt.show()"
      ],
      "execution_count": null,
      "outputs": [
        {
          "output_type": "display_data",
          "data": {
            "image/png": "[encoded data removed]",
            "text/plain": [
              "<Figure size 432x288 with 1 Axes>"
            ]
          },
          "metadata": {
            "tags": []
          }
        }
      ]
    },
    {
      "cell_type": "markdown",
      "metadata": {
        "id": "YPhAEYMonzQh"
      },
      "source": [
        "The dataset is well balanced, as the plot shows."
      ]
    },
    {
      "cell_type": "markdown",
      "metadata": {
        "id": "4UW25I4U8D2T"
      },
      "source": [
        "### Preparing data"
      ]
    },
    {
      "cell_type": "code",
      "metadata": {
        "id": "ebRFrz017uJC"
      },
      "source": [
        "text_train = train.drop('label', axis=1).iloc[:,0]\n",
        "y_train = np.asarray(train['label'])\n",
        "text_valid = valid.drop('label', axis=1).iloc[:,0]\n",
        "y_valid = np.asarray(valid['label'])\n",
        "text_test = test.drop('label', axis=1).iloc[:,0]\n",
        "y_test = np.asarray(test['label'])"
      ],
      "execution_count": null,
      "outputs": []
    },
    {
      "cell_type": "markdown",
      "metadata": {
        "id": "K8LGQhhYoMm3"
      },
      "source": [
        "## Preprocessing"
      ]
    },
    {
      "cell_type": "markdown",
      "metadata": {
        "id": "_lUuyXJ-xTZo"
      },
      "source": [
        "Preprocessing steps on each data:\n",
        "\n",
        "1.   Converting to Lowercase\n",
        "2.   Removing HTML tags\n",
        "3.   Removing all the special characters\n",
        "4.   Substituting multiple spaces with a single space\n",
        "5.   Removing all the stop words, punctuation, numbers, and single characters\n",
        "6.   Substituting each word with their lemmas\n"
      ]
    },
    {
      "cell_type": "code",
      "metadata": {
        "id": "iClNurGwXkhA"
      },
      "source": [
        "# Load English tokenizer, tagger, parser, NER and word vectors\n",
        "nlp = spacy.load(\"en_core_web_sm\")"
      ],
      "execution_count": null,
      "outputs": []
    },
    {
      "cell_type": "code",
      "metadata": {
        "id": "T5feCK0lnT53"
      },
      "source": [
        "# Removing HTML tags using Regex\n",
        "TAG_RE = re.compile(r'<[^>]+>')\n",
        "\n",
        "def preprocessing(doc):\n",
        "  # Converting to Lowercase\n",
        "  doc = doc.lower()\n",
        "  # Removing HTML tags\n",
        "  doc = TAG_RE.sub(' ', doc)\n",
        "  # Removing all the special characters\n",
        "  doc = re.sub(r'\\W', ' ', doc)\n",
        "  # Substituting multiple spaces with single space\n",
        "  doc = re.sub(r'\\s+', ' ', doc, flags=re.I)\n",
        "  # Make spacy document object\n",
        "  doc = nlp(doc)\n",
        "  # 1) Removing stop words, punctuation, numbers and single characters\n",
        "  # 2) Substituting each words with their lemmas\n",
        "  tokens = [token.lemma_ for token in doc if (token.is_stop == False and token.is_punct == False and token.is_digit == False and len(token)>1)]\n",
        "  # Merge tokens into a string\n",
        "  cleaned_doc = ' '.join(tokens)\n",
        "  return cleaned_doc"
      ],
      "execution_count": null,
      "outputs": []
    },
    {
      "cell_type": "markdown",
      "metadata": {
        "id": "QsaNbJDFSg41"
      },
      "source": [
        "### Test preprocessing"
      ]
    },
    {
      "cell_type": "code",
      "metadata": {
        "id": "LZn1njI8Pmaf"
      },
      "source": [
        "text_train[0]"
      ],
      "execution_count": null,
      "outputs": []
    },
    {
      "cell_type": "code",
      "metadata": {
        "id": "k0ZCuLMGPhHs"
      },
      "source": [
        "print(preprocessing(text_train[0]))"
      ],
      "execution_count": null,
      "outputs": []
    },
    {
      "cell_type": "markdown",
      "metadata": {
        "id": "kqftqKQhSbhS"
      },
      "source": [
        "### Apply preprocessing on data"
      ]
    },
    {
      "cell_type": "markdown",
      "metadata": {
        "id": "2SIl3H3gq5Gg"
      },
      "source": [
        "As the preprocessing of whole data takes a long time, it's better to do this step just once and save the results for further developments."
      ]
    },
    {
      "cell_type": "code",
      "metadata": {
        "id": "CwfcYT7utkAv"
      },
      "source": [
        "if using_cleaned_data:\n",
        "  # Just using the cleaned data if we load the preprocessed dataset\n",
        "  x_train = text_train\n",
        "  x_valid = text_valid\n",
        "  x_test = text_test\n",
        "else:\n",
        "  # Apply preprocessing on data\n",
        "  # Training data\n",
        "  x_train = []\n",
        "  for doc in tqdm(text_train):\n",
        "    cleaned_doc = preprocessing(doc)\n",
        "    x_train.append(cleaned_doc)\n",
        "  # Validation data\n",
        "  x_valid = []\n",
        "  for doc in tqdm(text_valid):\n",
        "    cleaned_doc = preprocessing(doc)\n",
        "    x_valid.append(cleaned_doc)\n",
        "  # Test data\n",
        "  x_test = []\n",
        "  for doc in tqdm(text_test):\n",
        "    cleaned_doc = preprocessing(doc)\n",
        "    x_test.append(cleaned_doc)\n",
        "  # Saving preprocessed data as .csv files into google drive\n",
        "  # Following code need google drive to be mounted\n",
        "  drive_path = \"/content/drive/MyDrive/NLP Datasets/IMDB/Cleaned/\"\n",
        "  pd.DataFrame({'text': x_train, 'label': y_train}).to_csv(drive_path + \"Train.csv\",index=False)\n",
        "  pd.DataFrame({'text': x_valid, 'label': y_valid}).to_csv(drive_path + \"Valid.csv\",index=False)\n",
        "  pd.DataFrame({'text': x_test, 'label': y_test}).to_csv(drive_path + \"Test.csv\",index=False)"
      ],
      "execution_count": null,
      "outputs": []
    },
    {
      "cell_type": "markdown",
      "metadata": {
        "id": "ZsgDlS5GMvpH"
      },
      "source": [
        "## Defining metrics"
      ]
    },
    {
      "cell_type": "markdown",
      "metadata": {
        "id": "7hZCGDBwZEw6"
      },
      "source": [
        "Defining some useful function to evaluate and analyze our models"
      ]
    },
    {
      "cell_type": "code",
      "metadata": {
        "id": "dhOJCErrJK1V"
      },
      "source": [
        "# Plot confusion matrix\n",
        "def plot_cm(clf, x_cf, y_cf):\n",
        "  metrics.plot_confusion_matrix(clf, x_cf, y_cf, values_format='.0f', cmap=\"OrRd\")"
      ],
      "execution_count": null,
      "outputs": []
    },
    {
      "cell_type": "code",
      "metadata": {
        "id": "ZQvwEuCHNd8x"
      },
      "source": [
        "def plot_roc(clf, x_cf, y_cf):\n",
        "  metrics.plot_roc_curve(clf, x_cf, y_cf)"
      ],
      "execution_count": null,
      "outputs": []
    },
    {
      "cell_type": "code",
      "metadata": {
        "id": "tmCmy_uUQvsz"
      },
      "source": [
        "def get_metrics(true_labels, predicted_labels):\n",
        "  auc = metrics.roc_auc_score(predicted_labels, true_labels)\n",
        "  accuracy = str(accuracy_score(true_labels, predicted_labels))\n",
        "  precision = str(precision_score(true_labels, predicted_labels))\n",
        "  recall = str(recall_score(true_labels, predicted_labels))\n",
        "  fscore = str(f1_score(true_labels, predicted_labels))\n",
        "  result = {'accuracy':accuracy, 'auc': auc, 'precision': precision, 'recall': recall, 'fscore':fscore}\n",
        "  return result"
      ],
      "execution_count": null,
      "outputs": []
    },
    {
      "cell_type": "code",
      "metadata": {
        "id": "eLMfwDkbuecA"
      },
      "source": [
        "# Getting linear and rbf gridsearch results and sorting based on accuracy\r\n",
        "def join_kernel_results(k1, k2):\r\n",
        "  results = k1 + k2\r\n",
        "  results = sorted(results, key=lambda x: x[1], reverse=True)\r\n",
        "  return results"
      ],
      "execution_count": null,
      "outputs": []
    },
    {
      "cell_type": "markdown",
      "metadata": {
        "id": "OVB9-YW1jY4y"
      },
      "source": [
        "## Bert Document Transformer (Embedding)"
      ]
    },
    {
      "cell_type": "markdown",
      "metadata": {
        "id": "vKJsrHLRjmja"
      },
      "source": [
        "We will use the sentence-transformers library, to get a Bert embedding for each of our documents.\n",
        "\n",
        "The transformer that will be used here is *'bert-base-nli-stsb-mean-tokens'* with the following properties:\n",
        "\n",
        "\n",
        "*   Base model: *bert-base-uncased*\n",
        "*   Pooling method: *Mean Pooling*\n",
        "*   Training data: *NLI+STSb*\n",
        "*   Speed (Sent. / Sec on V100 GPU): *2300*\n",
        "\n"
      ]
    },
    {
      "cell_type": "code",
      "metadata": {
        "colab": {
          "base_uri": "https://localhost:8080/"
        },
        "id": "EJgAsFql9_o1",
        "outputId": "ce75446b-af49-407d-8682-826f23ba65cb"
      },
      "source": [
        "bert_model = SentenceTransformer('bert-base-nli-stsb-mean-tokens')"
      ],
      "execution_count": null,
      "outputs": [
        {
          "output_type": "stream",
          "text": [
            "100%|██████████| 405M/405M [00:23<00:00, 17.1MB/s]\n"
          ],
          "name": "stderr"
        }
      ]
    },
    {
      "cell_type": "code",
      "metadata": {
        "colab": {
          "base_uri": "https://localhost:8080/"
        },
        "id": "sJHn8a8mh1hY",
        "outputId": "ff01a4b3-4188-4825-cfb2-4fdd47c0f66c"
      },
      "source": [
        "print(\"Max Sequence Length:\", bert_model.max_seq_length)"
      ],
      "execution_count": null,
      "outputs": [
        {
          "output_type": "stream",
          "text": [
            "Max Sequence Length: 128\n"
          ],
          "name": "stdout"
        }
      ]
    },
    {
      "cell_type": "code",
      "metadata": {
        "colab": {
          "base_uri": "https://localhost:8080/"
        },
        "id": "5hseutddh31Y",
        "outputId": "7a9ac06a-b005-466f-b863-8de9d60a442d"
      },
      "source": [
        "#Change the length to 512\n",
        "bert_model.max_seq_length = 512\n",
        "\n",
        "print(\"Max Sequence Length:\", bert_model.max_seq_length)"
      ],
      "execution_count": null,
      "outputs": [
        {
          "output_type": "stream",
          "text": [
            "Max Sequence Length: 512\n"
          ],
          "name": "stdout"
        }
      ]
    },
    {
      "cell_type": "code",
      "metadata": {
        "colab": {
          "base_uri": "https://localhost:8080/",
          "height": 66,
          "referenced_widgets": [
            "0af1f7b868b143b6b9848e86595b532b",
            "88b71f4fd2184421ae0c4c3daa463c11",
            "83f5a2843a384fc085e58c507024b89e",
            "7aa11038f9744b5f889083b0cf839927",
            "8f73f6bb74ec44d6944cd70d15b282bb",
            "010708a740da4820a02c5d020e9bf850",
            "1e3632f421ce469184bd6751a9c5f193",
            "746afc204c7b4e98bac766456d4725eb"
          ]
        },
        "id": "N3IomJ04kt7D",
        "outputId": "53b571b5-f9c0-4734-9d22-0b022d11aab6"
      },
      "source": [
        "bert_x_train = bert_model.encode(x_train, show_progress_bar=True)"
      ],
      "execution_count": null,
      "outputs": [
        {
          "output_type": "display_data",
          "data": {
            "application/vnd.jupyter.widget-view+json": {
              "model_id": "0af1f7b868b143b6b9848e86595b532b",
              "version_major": 2,
              "version_minor": 0
            },
            "text/plain": [
              "HBox(children=(FloatProgress(value=0.0, description='Batches', max=1250.0, style=ProgressStyle(description_wid…"
            ]
          },
          "metadata": {
            "tags": []
          }
        },
        {
          "output_type": "stream",
          "text": [
            "\n"
          ],
          "name": "stdout"
        }
      ]
    },
    {
      "cell_type": "code",
      "metadata": {
        "colab": {
          "base_uri": "https://localhost:8080/",
          "height": 66,
          "referenced_widgets": [
            "50c26b11117646dda30500e21acbb7aa",
            "9a7d3414436949919f07959150f63d66",
            "c4aedc0f3e524b5b810277a56a710579",
            "7b837c7e5d154be0918497dcf780d60e",
            "a89669268b654b9699ef6b8303212811",
            "8df514a490f142b1b2bc2eec9054ed21",
            "9dc553c6a8d54c5c89187886de534b98",
            "ca5ce4848c904fc7b45d352dc5d0f805"
          ]
        },
        "id": "pD1v16cem5jo",
        "outputId": "3174dbcc-cf79-4eb6-fc42-b76239b9ad50"
      },
      "source": [
        "bert_x_valid = bert_model.encode(x_valid, show_progress_bar=True)"
      ],
      "execution_count": null,
      "outputs": [
        {
          "output_type": "display_data",
          "data": {
            "application/vnd.jupyter.widget-view+json": {
              "model_id": "50c26b11117646dda30500e21acbb7aa",
              "version_major": 2,
              "version_minor": 0
            },
            "text/plain": [
              "HBox(children=(FloatProgress(value=0.0, description='Batches', max=157.0, style=ProgressStyle(description_widt…"
            ]
          },
          "metadata": {
            "tags": []
          }
        },
        {
          "output_type": "stream",
          "text": [
            "\n"
          ],
          "name": "stdout"
        }
      ]
    },
    {
      "cell_type": "code",
      "metadata": {
        "colab": {
          "base_uri": "https://localhost:8080/",
          "height": 66,
          "referenced_widgets": [
            "092a2c910e88445e8cb787dd26fc3867",
            "3269f6894cfe416eac63a663b01ec971",
            "7405c5cd74904bb996b2f873ec5d71e2",
            "be406843d2ee43599d8487c0e1fcbf4d",
            "b6e39481f7c54fcaa9c1ac73c348af0a",
            "549858550634426f8ad8241ae79d510b",
            "2434d59467ed4d10bf57c85cc5dfc72a",
            "f0400c6ded714d9da184c521a3793903"
          ]
        },
        "id": "zKMeMrjVm6ca",
        "outputId": "b4d41674-b4b3-43e6-efd9-70b1f52db205"
      },
      "source": [
        "bert_x_test = bert_model.encode(x_test, show_progress_bar=True)"
      ],
      "execution_count": null,
      "outputs": [
        {
          "output_type": "display_data",
          "data": {
            "application/vnd.jupyter.widget-view+json": {
              "model_id": "092a2c910e88445e8cb787dd26fc3867",
              "version_major": 2,
              "version_minor": 0
            },
            "text/plain": [
              "HBox(children=(FloatProgress(value=0.0, description='Batches', max=157.0, style=ProgressStyle(description_widt…"
            ]
          },
          "metadata": {
            "tags": []
          }
        },
        {
          "output_type": "stream",
          "text": [
            "\n"
          ],
          "name": "stdout"
        }
      ]
    },
    {
      "cell_type": "markdown",
      "metadata": {
        "id": "LqfExeBb9pZv"
      },
      "source": [
        "## Naive Bayes (NB)"
      ]
    },
    {
      "cell_type": "markdown",
      "metadata": {
        "id": "8Y1eY7IB9snK"
      },
      "source": [
        "### NB with Bag of Words vectorization"
      ]
    },
    {
      "cell_type": "code",
      "metadata": {
        "id": "9lUtChCy9osH"
      },
      "source": [
        "nb_count_vect = CountVectorizer(lowercase=True)\n",
        "nb_x_train_counts = nb_count_vect.fit_transform(x_train)"
      ],
      "execution_count": null,
      "outputs": []
    },
    {
      "cell_type": "code",
      "metadata": {
        "id": "I2pMoQkc-IhJ"
      },
      "source": [
        "nb_x_valid_counts = nb_count_vect.transform(x_valid)\n",
        "nb_x_test_counts = nb_count_vect.transform(x_test)"
      ],
      "execution_count": null,
      "outputs": []
    },
    {
      "cell_type": "code",
      "metadata": {
        "colab": {
          "base_uri": "https://localhost:8080/"
        },
        "id": "Zz87XIwp-PGv",
        "outputId": "9ea5fd0e-b778-429e-db53-e7bfd2380f9a"
      },
      "source": [
        "nb_bow_clf = MultinomialNB()\n",
        "nb_bow_clf.fit(nb_x_train_counts, y_train)"
      ],
      "execution_count": null,
      "outputs": [
        {
          "output_type": "execute_result",
          "data": {
            "text/plain": [
              "MultinomialNB(alpha=1.0, class_prior=None, fit_prior=True)"
            ]
          },
          "metadata": {
            "tags": []
          },
          "execution_count": 28
        }
      ]
    },
    {
      "cell_type": "code",
      "metadata": {
        "id": "PJ_Vdmt7_TtR"
      },
      "source": [
        "nb_bow_pred = nb_bow_clf.predict(nb_x_test_counts)"
      ],
      "execution_count": null,
      "outputs": []
    },
    {
      "cell_type": "code",
      "metadata": {
        "colab": {
          "base_uri": "https://localhost:8080/"
        },
        "id": "bwW83g4Cgk0W",
        "outputId": "e1ca20a7-c01c-4400-cbdd-a4e582cfa2c7"
      },
      "source": [
        "nb_bow_results = get_metrics(y_test, nb_bow_pred)\r\n",
        "print(nb_bow_results)"
      ],
      "execution_count": null,
      "outputs": [
        {
          "output_type": "stream",
          "text": [
            "{'accuracy': '0.8602', 'auc': 0.8605106403420282, 'precision': '0.8716049382716049', 'recall': '0.8455089820359282', 'fscore': '0.8583586626139817'}\n"
          ],
          "name": "stdout"
        }
      ]
    },
    {
      "cell_type": "code",
      "metadata": {
        "colab": {
          "base_uri": "https://localhost:8080/",
          "height": 279
        },
        "id": "_5YJlGO9gxRe",
        "outputId": "a13f8150-6376-4ad1-d8b8-b9919cf1b8bb"
      },
      "source": [
        "plot_roc(nb_bow_clf, nb_x_test_counts, y_test)"
      ],
      "execution_count": null,
      "outputs": [
        {
          "output_type": "display_data",
          "data": {
            "image/png": "[encoded data removed]",
            "text/plain": [
              "<Figure size 432x288 with 1 Axes>"
            ]
          },
          "metadata": {
            "tags": []
          }
        }
      ]
    },
    {
      "cell_type": "code",
      "metadata": {
        "colab": {
          "base_uri": "https://localhost:8080/",
          "height": 279
        },
        "id": "-s-TaS8Xd6V3",
        "outputId": "7bd0296c-ba58-4ace-e894-128eba6bfd06"
      },
      "source": [
        "plot_cm(nb_bow_clf, nb_x_test_counts, y_test)"
      ],
      "execution_count": null,
      "outputs": [
        {
          "output_type": "display_data",
          "data": {
            "image/png": "[encoded data removed]",
            "text/plain": [
              "<Figure size 432x288 with 2 Axes>"
            ]
          },
          "metadata": {
            "tags": []
          }
        }
      ]
    },
    {
      "cell_type": "markdown",
      "metadata": {
        "id": "ldSS1JQy91Nx"
      },
      "source": [
        "### NB with Tf-idf vectorization"
      ]
    },
    {
      "cell_type": "code",
      "metadata": {
        "id": "rhJynGCb_zA5"
      },
      "source": [
        "nb_tfidf_transformer = TfidfTransformer()\n",
        "nb_x_train_tfidf = nb_tfidf_transformer.fit_transform(nb_x_train_counts)"
      ],
      "execution_count": null,
      "outputs": []
    },
    {
      "cell_type": "code",
      "metadata": {
        "id": "D8wbDGnz_zA6"
      },
      "source": [
        "nb_x_valid_tfidf  = nb_tfidf_transformer.transform(nb_x_valid_counts)\n",
        "nb_x_test_tfidf = nb_tfidf_transformer.transform(nb_x_test_counts)"
      ],
      "execution_count": null,
      "outputs": []
    },
    {
      "cell_type": "code",
      "metadata": {
        "colab": {
          "base_uri": "https://localhost:8080/"
        },
        "id": "ePTynKMo_7UL",
        "outputId": "8ea86371-7a3f-4cac-8bb9-36383a2d0c66"
      },
      "source": [
        "nb_tfidf_clf = MultinomialNB()\n",
        "nb_tfidf_clf.fit(nb_x_train_tfidf, y_train)"
      ],
      "execution_count": null,
      "outputs": [
        {
          "output_type": "execute_result",
          "data": {
            "text/plain": [
              "MultinomialNB(alpha=1.0, class_prior=None, fit_prior=True)"
            ]
          },
          "metadata": {
            "tags": []
          },
          "execution_count": 66
        }
      ]
    },
    {
      "cell_type": "code",
      "metadata": {
        "id": "g8owurbOAUiK"
      },
      "source": [
        "nb_tfidf_pred = nb_tfidf_clf.predict(nb_x_test_tfidf)"
      ],
      "execution_count": null,
      "outputs": []
    },
    {
      "cell_type": "code",
      "metadata": {
        "colab": {
          "base_uri": "https://localhost:8080/"
        },
        "id": "0xzO_hJ6AIKw",
        "outputId": "2ef33e62-0dde-4c3d-c124-70c95c513cbd"
      },
      "source": [
        "nb_tfidf_results = get_metrics(y_test, nb_tfidf_pred)\n",
        "print(nb_tfidf_results)"
      ],
      "execution_count": null,
      "outputs": [
        {
          "output_type": "stream",
          "text": [
            "{'accuracy': '0.8626', 'auc': 0.862741209663944, 'precision': '0.8704156479217604', 'recall': '0.8526946107784431', 'fscore': '0.8614640048396854'}\n"
          ],
          "name": "stdout"
        }
      ]
    },
    {
      "cell_type": "code",
      "metadata": {
        "colab": {
          "base_uri": "https://localhost:8080/",
          "height": 279
        },
        "id": "WgFOjTANeH00",
        "outputId": "d887fb9f-03c9-4e50-9279-907a49bdcdaa"
      },
      "source": [
        "plot_roc(nb_tfidf_clf, nb_x_test_counts, y_test)"
      ],
      "execution_count": null,
      "outputs": [
        {
          "output_type": "display_data",
          "data": {
            "image/png": "[encoded data removed]",
            "text/plain": [
              "<Figure size 432x288 with 1 Axes>"
            ]
          },
          "metadata": {
            "tags": []
          }
        }
      ]
    },
    {
      "cell_type": "code",
      "metadata": {
        "colab": {
          "base_uri": "https://localhost:8080/",
          "height": 283
        },
        "id": "wSUxu9KNeQBs",
        "outputId": "a341024a-8759-4d0d-c89c-6651b8b74687"
      },
      "source": [
        "plot_cm(nb_tfidf_clf, nb_x_test_counts, y_test)"
      ],
      "execution_count": null,
      "outputs": [
        {
          "output_type": "display_data",
          "data": {
            "image/png": "[encoded data removed]",
            "text/plain": [
              "<Figure size 432x288 with 2 Axes>"
            ]
          },
          "metadata": {
            "tags": []
          }
        }
      ]
    },
    {
      "cell_type": "markdown",
      "metadata": {
        "id": "9L13ds95939B"
      },
      "source": [
        "### NB with Bert embedding"
      ]
    },
    {
      "cell_type": "code",
      "metadata": {
        "colab": {
          "base_uri": "https://localhost:8080/"
        },
        "id": "36sIyF3GtIBg",
        "outputId": "8943d867-065f-4deb-84dc-ac0fc21a439d"
      },
      "source": [
        "nb_bert_clf = GaussianNB()\n",
        "nb_bert_clf.fit(bert_x_train, y_train)"
      ],
      "execution_count": null,
      "outputs": [
        {
          "output_type": "execute_result",
          "data": {
            "text/plain": [
              "GaussianNB(priors=None, var_smoothing=1e-09)"
            ]
          },
          "metadata": {
            "tags": []
          },
          "execution_count": 71
        }
      ]
    },
    {
      "cell_type": "code",
      "metadata": {
        "id": "k-iKyvxxtIBi"
      },
      "source": [
        "nb_bert_pred = nb_bert_clf.predict(bert_x_test)"
      ],
      "execution_count": null,
      "outputs": []
    },
    {
      "cell_type": "code",
      "metadata": {
        "colab": {
          "base_uri": "https://localhost:8080/"
        },
        "id": "zyBF54rutIBi",
        "outputId": "43479bf3-010d-448b-a6ea-9f50ec880d78"
      },
      "source": [
        "nb_bert_results = get_metrics(y_test, nb_bert_pred)\n",
        "print(nb_bert_results)"
      ],
      "execution_count": null,
      "outputs": [
        {
          "output_type": "stream",
          "text": [
            "{'accuracy': '0.7688', 'auc': 0.7692441308843985, 'precision': '0.7806908031627132', 'recall': '0.7489021956087825', 'fscore': '0.7644661776691116'}\n"
          ],
          "name": "stdout"
        }
      ]
    },
    {
      "cell_type": "code",
      "metadata": {
        "colab": {
          "base_uri": "https://localhost:8080/",
          "height": 279
        },
        "id": "RYYyPwN2ecm5",
        "outputId": "70be3220-62f5-43d2-ae79-0a46ff658917"
      },
      "source": [
        "plot_roc(nb_bert_clf, bert_x_test, y_test)"
      ],
      "execution_count": null,
      "outputs": [
        {
          "output_type": "display_data",
          "data": {
            "image/png": "[encoded data removed]",
            "text/plain": [
              "<Figure size 432x288 with 1 Axes>"
            ]
          },
          "metadata": {
            "tags": []
          }
        }
      ]
    },
    {
      "cell_type": "code",
      "metadata": {
        "colab": {
          "base_uri": "https://localhost:8080/",
          "height": 279
        },
        "id": "ut7zgwH-erOh",
        "outputId": "33584cd1-0ca9-4569-9cb7-e7466dc19927"
      },
      "source": [
        "plot_cm(nb_bert_clf, bert_x_test, y_test)"
      ],
      "execution_count": null,
      "outputs": [
        {
          "output_type": "display_data",
          "data": {
            "image/png": "[encoded data removed]",
            "text/plain": [
              "<Figure size 432x288 with 2 Axes>"
            ]
          },
          "metadata": {
            "tags": []
          }
        }
      ]
    },
    {
      "cell_type": "markdown",
      "metadata": {
        "id": "Rz2i4P1H9iwL"
      },
      "source": [
        "## Support Vector Machine (SVM)"
      ]
    },
    {
      "cell_type": "markdown",
      "metadata": {
        "id": "yxDl2dnNLXYJ"
      },
      "source": [
        "### SVM with Bag of words vectorization"
      ]
    },
    {
      "cell_type": "markdown",
      "metadata": {
        "id": "mXmt5maK9VM3"
      },
      "source": [
        "In grid search we are tuning three major parameters as following [[1]](https://www.vebuso.com/2020/03/svm-hyperparameter-tuning-using-gridsearchcv/):\n",
        "\n",
        "\n",
        "*   **Kernel:** The main function of the kernel is to take low dimensional input space and transform it into a higher-dimensional space. It is mostly useful in non-linear separation problem.\n",
        "*   **C:** Penalty parameter. When C is high it will classify all the data points correctly, also there is a chance to overfit.\n",
        "*   **Gamma:** when gamma is higher, nearby points will have high influence; low gamma means far away points also be considered to get the decision boundary. \n",
        "\n"
      ]
    },
    {
      "cell_type": "code",
      "metadata": {
        "id": "YiHO0oA3luIi"
      },
      "source": [
        "count_vect = CountVectorizer(max_features=768, lowercase=True)\n",
        "x_train_counts = count_vect.fit_transform(x_train)"
      ],
      "execution_count": null,
      "outputs": []
    },
    {
      "cell_type": "code",
      "metadata": {
        "id": "zFOW9wlNoEPb"
      },
      "source": [
        "x_valid_counts = count_vect.transform(x_valid)\n",
        "x_test_counts = count_vect.transform(x_test)"
      ],
      "execution_count": null,
      "outputs": []
    },
    {
      "cell_type": "code",
      "metadata": {
        "colab": {
          "base_uri": "https://localhost:8080/"
        },
        "id": "B1Mlp073czKt",
        "outputId": "89713a2e-0bd1-4f14-b043-33ccabc91b3e"
      },
      "source": [
        "# LinearSVC is much faster than SVC, so I splitted up the linear and rbf kernels\n",
        "linear_svm_bow_param = [{'C': [1, 10, 100]}]\n",
        "linear_svm_bow_grid = GridSearch(model = svm.LinearSVC(max_iter=10000), param_grid = linear_svm_bow_param)\n",
        "linear_svm_bow_grid.fit(x_train_counts, y_train, x_valid_counts, y_valid)"
      ],
      "execution_count": null,
      "outputs": [
        {
          "output_type": "stream",
          "text": [
            "\r  0%|          | 0/3 [00:00<?, ?it/s]/usr/local/lib/python3.6/dist-packages/sklearn/svm/_base.py:947: ConvergenceWarning: Liblinear failed to converge, increase the number of iterations.\n",
            "  \"the number of iterations.\", ConvergenceWarning)\n",
            " 33%|███▎      | 1/3 [01:56<03:53, 116.55s/it]/usr/local/lib/python3.6/dist-packages/sklearn/svm/_base.py:947: ConvergenceWarning: Liblinear failed to converge, increase the number of iterations.\n",
            "  \"the number of iterations.\", ConvergenceWarning)\n",
            "100%|██████████| 3/3 [03:30<00:00, 70.32s/it]\n"
          ],
          "name": "stderr"
        },
        {
          "output_type": "execute_result",
          "data": {
            "text/plain": [
              "LinearSVC(C=1, class_weight=None, dual=True, fit_intercept=True,\n",
              "          intercept_scaling=1, loss='squared_hinge', max_iter=10000,\n",
              "          multi_class='ovr', penalty='l2', random_state=0, tol=0.0001,\n",
              "          verbose=0)"
            ]
          },
          "metadata": {
            "tags": []
          },
          "execution_count": 82
        }
      ]
    },
    {
      "cell_type": "code",
      "metadata": {
        "colab": {
          "base_uri": "https://localhost:8080/"
        },
        "id": "wDKjt-XiurAT",
        "outputId": "06ee3fe9-932a-408c-f58b-f222bfc80991"
      },
      "source": [
        "rbf_svm_bow_param = [{'C': [1, 10, 100], 'gamma': [0.01, 0.001, 0.0001], 'kernel': ['rbf']}]\n",
        "rbf_svm_bow_grid = GridSearch(model = svm.SVC(max_iter=10000), param_grid = rbf_svm_bow_param)\n",
        "rbf_svm_bow_grid.fit(x_train_counts, y_train, x_valid_counts, y_valid)"
      ],
      "execution_count": null,
      "outputs": [
        {
          "output_type": "stream",
          "text": [
            "\r  0%|          | 0/9 [00:00<?, ?it/s]/usr/local/lib/python3.6/dist-packages/sklearn/svm/_base.py:231: ConvergenceWarning: Solver terminated early (max_iter=10000).  Consider pre-processing your data with StandardScaler or MinMaxScaler.\n",
            "  % self.max_iter, ConvergenceWarning)\n",
            "/usr/local/lib/python3.6/dist-packages/sklearn/svm/_base.py:231: ConvergenceWarning: Solver terminated early (max_iter=10000).  Consider pre-processing your data with StandardScaler or MinMaxScaler.\n",
            "  % self.max_iter, ConvergenceWarning)\n",
            "100%|██████████| 9/9 [43:42<00:00, 291.43s/it]\n"
          ],
          "name": "stderr"
        },
        {
          "output_type": "execute_result",
          "data": {
            "text/plain": [
              "SVC(C=1, break_ties=False, cache_size=200, class_weight=None, coef0=0.0,\n",
              "    decision_function_shape='ovr', degree=3, gamma=0.001, kernel='rbf',\n",
              "    max_iter=10000, probability=False, random_state=0, shrinking=True,\n",
              "    tol=0.001, verbose=False)"
            ]
          },
          "metadata": {
            "tags": []
          },
          "execution_count": 90
        }
      ]
    },
    {
      "cell_type": "code",
      "metadata": {
        "colab": {
          "base_uri": "https://localhost:8080/"
        },
        "id": "nhtM0EMpzKsZ",
        "outputId": "55ce2613-710a-4fab-ff37-c8bf3b911373"
      },
      "source": [
        "linear_svm_bow_pr = linear_svm_bow_grid.get_param_scores()\r\n",
        "rbf_svm_bow_pr = rbf_svm_bow_grid.get_param_scores()\r\n",
        "join_kernel_results(linear_svm_bow_pr, rbf_svm_bow_pr)"
      ],
      "execution_count": null,
      "outputs": [
        {
          "output_type": "execute_result",
          "data": {
            "text/plain": [
              "[({'C': 1}, 0.8556),\n",
              " ({'C': 10}, 0.8544),\n",
              " ({'C': 1, 'gamma': 0.001, 'kernel': 'rbf'}, 0.8448),\n",
              " ({'C': 1, 'gamma': 0.01, 'kernel': 'rbf'}, 0.8446),\n",
              " ({'C': 10, 'gamma': 0.0001, 'kernel': 'rbf'}, 0.843),\n",
              " ({'C': 10, 'gamma': 0.001, 'kernel': 'rbf'}, 0.8414),\n",
              " ({'C': 100, 'gamma': 0.0001, 'kernel': 'rbf'}, 0.8388),\n",
              " ({'C': 10, 'gamma': 0.01, 'kernel': 'rbf'}, 0.8338),\n",
              " ({'C': 100}, 0.8274),\n",
              " ({'C': 100, 'gamma': 0.01, 'kernel': 'rbf'}, 0.8056),\n",
              " ({'C': 100, 'gamma': 0.001, 'kernel': 'rbf'}, 0.706),\n",
              " ({'C': 1, 'gamma': 0.0001, 'kernel': 'rbf'}, 0.513)]"
            ]
          },
          "metadata": {
            "tags": []
          },
          "execution_count": 121
        }
      ]
    },
    {
      "cell_type": "code",
      "metadata": {
        "id": "tQgFbGMvzft-"
      },
      "source": [
        "# Choose the best model based on gridsearch results\r\n",
        "svm_bow_best_model = None\r\n",
        "if linear_svm_bow_pr[0][1] > rbf_svm_bow_pr[0][1]:\r\n",
        "  svm_bow_best_model = linear_svm_bow_grid.best_estimator_\r\n",
        "else:\r\n",
        "  svm_bow_best_model = rbf_svm_bow_grid.best_estimator_"
      ],
      "execution_count": 160,
      "outputs": []
    },
    {
      "cell_type": "code",
      "metadata": {
        "id": "JVI7hY4l1epn"
      },
      "source": [
        "svm_bow_pred = svm_bow_best_model.predict(x_test_counts)"
      ],
      "execution_count": 161,
      "outputs": []
    },
    {
      "cell_type": "code",
      "metadata": {
        "colab": {
          "base_uri": "https://localhost:8080/"
        },
        "id": "iiyb8orSuz43",
        "outputId": "8151b408-d294-40d2-e875-23d809ec5e54"
      },
      "source": [
        "svm_bow_results = get_metrics(y_test, svm_bow_pred)\r\n",
        "print(svm_bow_results)"
      ],
      "execution_count": 162,
      "outputs": [
        {
          "output_type": "stream",
          "text": [
            "{'accuracy': '0.8546', 'auc': 0.8550851944242903, 'precision': '0.8424499229583975', 'recall': '0.8730538922155688', 'fscore': '0.8574789257008428'}\n"
          ],
          "name": "stdout"
        }
      ]
    },
    {
      "cell_type": "code",
      "metadata": {
        "colab": {
          "base_uri": "https://localhost:8080/",
          "height": 279
        },
        "id": "0ItcFRb2iDDs",
        "outputId": "478b6558-0aa7-4904-a697-4765cb69cd9e"
      },
      "source": [
        "plot_roc(svm_bow_best_model, x_test_counts, y_test)"
      ],
      "execution_count": null,
      "outputs": [
        {
          "output_type": "display_data",
          "data": {
            "image/png": "[encoded data removed]",
            "text/plain": [
              "<Figure size 432x288 with 1 Axes>"
            ]
          },
          "metadata": {
            "tags": []
          }
        }
      ]
    },
    {
      "cell_type": "code",
      "metadata": {
        "colab": {
          "base_uri": "https://localhost:8080/",
          "height": 279
        },
        "id": "0y8Mey94hQRR",
        "outputId": "324cd127-ff07-4a9a-8bea-1d66d586b5e8"
      },
      "source": [
        "plot_cm(svm_bow_best_model, x_test_counts, y_test)"
      ],
      "execution_count": null,
      "outputs": [
        {
          "output_type": "display_data",
          "data": {
            "image/png": "[encoded data removed]",
            "text/plain": [
              "<Figure size 432x288 with 2 Axes>"
            ]
          },
          "metadata": {
            "tags": []
          }
        }
      ]
    },
    {
      "cell_type": "markdown",
      "metadata": {
        "id": "7-f_YbJGLlZv"
      },
      "source": [
        "### SVM with Tf-idf vectorization"
      ]
    },
    {
      "cell_type": "code",
      "metadata": {
        "id": "I_xj08QV2Z0-"
      },
      "source": [
        "tfidf_transformer = TfidfTransformer()\n",
        "x_train_tfidf = tfidf_transformer.fit_transform(x_train_counts)"
      ],
      "execution_count": null,
      "outputs": []
    },
    {
      "cell_type": "code",
      "metadata": {
        "id": "htQyGA2EfBkg"
      },
      "source": [
        "x_valid_tfidf  = tfidf_transformer.transform(x_valid_counts)\n",
        "x_test_tfidf = tfidf_transformer.transform(x_test_counts)"
      ],
      "execution_count": null,
      "outputs": []
    },
    {
      "cell_type": "code",
      "metadata": {
        "colab": {
          "base_uri": "https://localhost:8080/"
        },
        "id": "BsRi7owG0cfq",
        "outputId": "4998a81b-b1fc-4533-9ce6-fe3e2eaaec9b"
      },
      "source": [
        "# LinearSVC is much faster than SVC, so I splitted up the linear and rbf kernels\n",
        "linear_svm_tfidf_param = [{'C': [1, 10, 100]}]\n",
        "linear_svm_tfidf_grid = GridSearch(model = svm.LinearSVC(max_iter=10000), param_grid = linear_svm_tfidf_param)\n",
        "linear_svm_tfidf_grid.fit(x_train_tfidf, y_train, x_valid_tfidf, y_valid)"
      ],
      "execution_count": null,
      "outputs": [
        {
          "output_type": "stream",
          "text": [
            "100%|██████████| 3/3 [00:50<00:00, 16.78s/it]\n"
          ],
          "name": "stderr"
        },
        {
          "output_type": "execute_result",
          "data": {
            "text/plain": [
              "LinearSVC(C=1, class_weight=None, dual=True, fit_intercept=True,\n",
              "          intercept_scaling=1, loss='squared_hinge', max_iter=10000,\n",
              "          multi_class='ovr', penalty='l2', random_state=0, tol=0.0001,\n",
              "          verbose=0)"
            ]
          },
          "metadata": {
            "tags": []
          },
          "execution_count": 141
        }
      ]
    },
    {
      "cell_type": "code",
      "metadata": {
        "colab": {
          "background_save": true,
          "base_uri": "https://localhost:8080/"
        },
        "id": "yW-qENWa0cfx",
        "outputId": "5a34e4f9-378e-4af9-cad3-6101fceb5cb7"
      },
      "source": [
        "rbf_svm_tfidf_param = [{'C': [1, 10, 100], 'gamma': [0.01, 0.001, 0.0001], 'kernel': ['rbf']}]\n",
        "rbf_svm_tfidf_grid = GridSearch(model = svm.SVC(max_iter=10000), param_grid = rbf_svm_tfidf_param)\n",
        "rbf_svm_tfidf_grid.fit(x_train_tfidf, y_train, x_valid_tfidf, y_valid)"
      ],
      "execution_count": null,
      "outputs": [
        {
          "output_type": "stream",
          "text": [
            "  0%|          | 0/9 [00:00<?, ?it/s]/usr/local/lib/python3.6/dist-packages/sklearn/svm/_base.py:231: ConvergenceWarning: Solver terminated early (max_iter=10000).  Consider pre-processing your data with StandardScaler or MinMaxScaler.\n",
            "  % self.max_iter, ConvergenceWarning)\n",
            "/usr/local/lib/python3.6/dist-packages/sklearn/svm/_base.py:231: ConvergenceWarning: Solver terminated early (max_iter=10000).  Consider pre-processing your data with StandardScaler or MinMaxScaler.\n",
            "  % self.max_iter, ConvergenceWarning)\n",
            "100%|██████████| 9/9 [53:46<00:00, 358.47s/it]\n"
          ],
          "name": "stderr"
        },
        {
          "output_type": "execute_result",
          "data": {
            "text/plain": [
              "SVC(C=100, break_ties=False, cache_size=200, class_weight=None, coef0=0.0,\n",
              "    decision_function_shape='ovr', degree=3, gamma=0.01, kernel='rbf',\n",
              "    max_iter=10000, probability=False, random_state=0, shrinking=True,\n",
              "    tol=0.001, verbose=False)"
            ]
          },
          "metadata": {
            "tags": []
          },
          "execution_count": 0
        }
      ]
    },
    {
      "cell_type": "code",
      "metadata": {
        "colab": {
          "base_uri": "https://localhost:8080/"
        },
        "id": "lkWk6D9i0cfy",
        "outputId": "b18c04aa-f0f2-47d7-f891-de0ca8485020"
      },
      "source": [
        "linear_svm_tfidf_pr = linear_svm_tfidf_grid.get_param_scores()\r\n",
        "rbf_svm_tfidf_pr = rbf_svm_tfidf_grid.get_param_scores()\r\n",
        "join_kernel_results(linear_svm_tfidf_pr, rbf_svm_tfidf_pr)"
      ],
      "execution_count": 144,
      "outputs": [
        {
          "output_type": "execute_result",
          "data": {
            "text/plain": [
              "[({'C': 1}, 0.8524),\n",
              " ({'C': 10}, 0.852),\n",
              " ({'C': 100}, 0.8516),\n",
              " ({'C': 100, 'gamma': 0.01, 'kernel': 'rbf'}, 0.8508),\n",
              " ({'C': 100, 'gamma': 0.001, 'kernel': 'rbf'}, 0.8504),\n",
              " ({'C': 10, 'gamma': 0.01, 'kernel': 'rbf'}, 0.85),\n",
              " ({'C': 100, 'gamma': 0.0001, 'kernel': 'rbf'}, 0.8312),\n",
              " ({'C': 10, 'gamma': 0.001, 'kernel': 'rbf'}, 0.8312),\n",
              " ({'C': 1, 'gamma': 0.01, 'kernel': 'rbf'}, 0.8288),\n",
              " ({'C': 1, 'gamma': 0.001, 'kernel': 'rbf'}, 0.6906),\n",
              " ({'C': 10, 'gamma': 0.0001, 'kernel': 'rbf'}, 0.6884),\n",
              " ({'C': 1, 'gamma': 0.0001, 'kernel': 'rbf'}, 0.5938)]"
            ]
          },
          "metadata": {
            "tags": []
          },
          "execution_count": 144
        }
      ]
    },
    {
      "cell_type": "code",
      "metadata": {
        "id": "PYwv1UJ40cfy"
      },
      "source": [
        "# Choose the best model based on gridsearch results\r\n",
        "svm_tfidf_best_model = None\r\n",
        "if linear_svm_tfidf_pr[0][1] > rbf_svm_tfidf_pr[0][1]:\r\n",
        "  svm_tfidf_best_model = linear_svm_tfidf_grid.best_estimator_\r\n",
        "else:\r\n",
        "  svm_tfidf_best_model = rbf_svm_tfidf_grid.best_estimator_"
      ],
      "execution_count": 145,
      "outputs": []
    },
    {
      "cell_type": "code",
      "metadata": {
        "id": "tCT5dSNS0cfz"
      },
      "source": [
        "svm_tfidf_pred = svm_tfidf_best_model.predict(x_test_tfidf)"
      ],
      "execution_count": 146,
      "outputs": []
    },
    {
      "cell_type": "code",
      "metadata": {
        "colab": {
          "base_uri": "https://localhost:8080/"
        },
        "id": "emS3iyKl0cfz",
        "outputId": "6b472cc4-876b-43c7-ed19-25211d617bad"
      },
      "source": [
        "svm_tfidf_results = get_metrics(y_test, svm_tfidf_pred)\r\n",
        "print(svm_tfidf_results)"
      ],
      "execution_count": 147,
      "outputs": [
        {
          "output_type": "stream",
          "text": [
            "{'accuracy': '0.8554', 'auc': 0.8557499300046962, 'precision': '0.8450813323005422', 'recall': '0.871057884231537', 'fscore': '0.8578730096323964'}\n"
          ],
          "name": "stdout"
        }
      ]
    },
    {
      "cell_type": "code",
      "metadata": {
        "colab": {
          "base_uri": "https://localhost:8080/",
          "height": 279
        },
        "id": "0CP08MYe0cf0",
        "outputId": "a1e685d6-b2b4-4bca-f07b-fd14a79379a8"
      },
      "source": [
        "plot_roc(svm_tfidf_best_model, x_test_tfidf, y_test)"
      ],
      "execution_count": 148,
      "outputs": [
        {
          "output_type": "display_data",
          "data": {
            "image/png": "[encoded data removed]",
            "text/plain": [
              "<Figure size 432x288 with 1 Axes>"
            ]
          },
          "metadata": {
            "tags": [],
            "needs_background": "light"
          }
        }
      ]
    },
    {
      "cell_type": "code",
      "metadata": {
        "colab": {
          "base_uri": "https://localhost:8080/",
          "height": 279
        },
        "id": "UJxfjb4j0cf0",
        "outputId": "2f8af2c7-2928-42ed-edcf-d0c47e5f64fb"
      },
      "source": [
        "plot_cm(svm_tfidf_best_model, x_test_tfidf, y_test)"
      ],
      "execution_count": 149,
      "outputs": [
        {
          "output_type": "display_data",
          "data": {
            "image/png": "[encoded data removed]",
            "text/plain": [
              "<Figure size 432x288 with 2 Axes>"
            ]
          },
          "metadata": {
            "tags": [],
            "needs_background": "light"
          }
        }
      ]
    },
    {
      "cell_type": "markdown",
      "metadata": {
        "id": "Y81FzepmLqJ3"
      },
      "source": [
        "### SVM with Bert embedding"
      ]
    },
    {
      "cell_type": "code",
      "metadata": {
        "colab": {
          "base_uri": "https://localhost:8080/"
        },
        "id": "6PT5UCSWD5WZ",
        "outputId": "bda0b395-d42d-4d71-81c5-899597b715d5"
      },
      "source": [
        "# LinearSVC is much faster than SVC, so I splitted up the linear and rbf kernels\n",
        "linear_svm_bert_param = [{'C': [1, 10, 100]}]\n",
        "linear_svm_bert_grid = GridSearch(model = svm.LinearSVC(max_iter=10000), param_grid = linear_svm_bert_param)\n",
        "linear_svm_bert_grid.fit(bert_x_train, y_train, bert_x_valid, y_valid)"
      ],
      "execution_count": 150,
      "outputs": [
        {
          "output_type": "stream",
          "text": [
            " 33%|███▎      | 1/3 [08:29<16:59, 509.70s/it]/usr/local/lib/python3.6/dist-packages/sklearn/svm/_base.py:947: ConvergenceWarning: Liblinear failed to converge, increase the number of iterations.\n",
            "  \"the number of iterations.\", ConvergenceWarning)\n",
            " 67%|██████▋   | 2/3 [18:17<08:53, 533.24s/it]/usr/local/lib/python3.6/dist-packages/sklearn/svm/_base.py:947: ConvergenceWarning: Liblinear failed to converge, increase the number of iterations.\n",
            "  \"the number of iterations.\", ConvergenceWarning)\n",
            "100%|██████████| 3/3 [24:52<00:00, 497.54s/it]\n"
          ],
          "name": "stderr"
        },
        {
          "output_type": "execute_result",
          "data": {
            "text/plain": [
              "LinearSVC(C=1, class_weight=None, dual=True, fit_intercept=True,\n",
              "          intercept_scaling=1, loss='squared_hinge', max_iter=10000,\n",
              "          multi_class='ovr', penalty='l2', random_state=0, tol=0.0001,\n",
              "          verbose=0)"
            ]
          },
          "metadata": {
            "tags": []
          },
          "execution_count": 150
        }
      ]
    },
    {
      "cell_type": "code",
      "metadata": {
        "colab": {
          "base_uri": "https://localhost:8080/"
        },
        "id": "Y2aRtT8rD5Wn",
        "outputId": "51d1d09d-67c0-47e0-b86d-ada19493eab1"
      },
      "source": [
        "rbf_svm_bert_param = [{'C': [1, 10, 100], 'gamma': [0.01, 0.001, 0.0001], 'kernel': ['rbf']}]\n",
        "rbf_svm_bert_grid = GridSearch(model = svm.SVC(max_iter=10000), param_grid = rbf_svm_bert_param)\n",
        "rbf_svm_bert_grid.fit(bert_x_train, y_train, bert_x_valid, y_valid)"
      ],
      "execution_count": 151,
      "outputs": [
        {
          "output_type": "stream",
          "text": [
            "\r  0%|          | 0/9 [00:00<?, ?it/s]/usr/local/lib/python3.6/dist-packages/sklearn/svm/_base.py:231: ConvergenceWarning: Solver terminated early (max_iter=10000).  Consider pre-processing your data with StandardScaler or MinMaxScaler.\n",
            "  % self.max_iter, ConvergenceWarning)\n",
            "/usr/local/lib/python3.6/dist-packages/sklearn/svm/_base.py:231: ConvergenceWarning: Solver terminated early (max_iter=10000).  Consider pre-processing your data with StandardScaler or MinMaxScaler.\n",
            "  % self.max_iter, ConvergenceWarning)\n",
            " 22%|██▏       | 2/9 [19:55<1:32:30, 792.88s/it] /usr/local/lib/python3.6/dist-packages/sklearn/svm/_base.py:231: ConvergenceWarning: Solver terminated early (max_iter=10000).  Consider pre-processing your data with StandardScaler or MinMaxScaler.\n",
            "  % self.max_iter, ConvergenceWarning)\n",
            "/usr/local/lib/python3.6/dist-packages/sklearn/svm/_base.py:231: ConvergenceWarning: Solver terminated early (max_iter=10000).  Consider pre-processing your data with StandardScaler or MinMaxScaler.\n",
            "  % self.max_iter, ConvergenceWarning)\n",
            " 44%|████▍     | 4/9 [38:56<52:47, 633.43s/it]  /usr/local/lib/python3.6/dist-packages/sklearn/svm/_base.py:231: ConvergenceWarning: Solver terminated early (max_iter=10000).  Consider pre-processing your data with StandardScaler or MinMaxScaler.\n",
            "  % self.max_iter, ConvergenceWarning)\n",
            " 56%|█████▌    | 5/9 [54:38<48:23, 725.75s/it]/usr/local/lib/python3.6/dist-packages/sklearn/svm/_base.py:231: ConvergenceWarning: Solver terminated early (max_iter=10000).  Consider pre-processing your data with StandardScaler or MinMaxScaler.\n",
            "  % self.max_iter, ConvergenceWarning)\n",
            " 67%|██████▋   | 6/9 [58:41<29:03, 581.13s/it]/usr/local/lib/python3.6/dist-packages/sklearn/svm/_base.py:231: ConvergenceWarning: Solver terminated early (max_iter=10000).  Consider pre-processing your data with StandardScaler or MinMaxScaler.\n",
            "  % self.max_iter, ConvergenceWarning)\n",
            " 78%|███████▊  | 7/9 [1:13:45<22:35, 677.97s/it]/usr/local/lib/python3.6/dist-packages/sklearn/svm/_base.py:231: ConvergenceWarning: Solver terminated early (max_iter=10000).  Consider pre-processing your data with StandardScaler or MinMaxScaler.\n",
            "  % self.max_iter, ConvergenceWarning)\n",
            " 89%|████████▉ | 8/9 [1:16:39<08:46, 526.73s/it]/usr/local/lib/python3.6/dist-packages/sklearn/svm/_base.py:231: ConvergenceWarning: Solver terminated early (max_iter=10000).  Consider pre-processing your data with StandardScaler or MinMaxScaler.\n",
            "  % self.max_iter, ConvergenceWarning)\n",
            "100%|██████████| 9/9 [1:28:36<00:00, 590.72s/it]\n"
          ],
          "name": "stderr"
        },
        {
          "output_type": "execute_result",
          "data": {
            "text/plain": [
              "SVC(C=1, break_ties=False, cache_size=200, class_weight=None, coef0=0.0,\n",
              "    decision_function_shape='ovr', degree=3, gamma=0.01, kernel='rbf',\n",
              "    max_iter=10000, probability=False, random_state=0, shrinking=True,\n",
              "    tol=0.001, verbose=False)"
            ]
          },
          "metadata": {
            "tags": []
          },
          "execution_count": 151
        }
      ]
    },
    {
      "cell_type": "code",
      "metadata": {
        "colab": {
          "base_uri": "https://localhost:8080/"
        },
        "id": "83Muh7cwD5Wn",
        "outputId": "4d33bc0b-238f-4119-8178-d235db46d3e1"
      },
      "source": [
        "linear_svm_bert_pr = linear_svm_bert_grid.get_param_scores()\r\n",
        "rbf_svm_bert_pr = rbf_svm_bert_grid.get_param_scores()\r\n",
        "join_kernel_results(linear_svm_bert_pr, rbf_svm_bert_pr)"
      ],
      "execution_count": 152,
      "outputs": [
        {
          "output_type": "execute_result",
          "data": {
            "text/plain": [
              "[({'C': 1, 'gamma': 0.01, 'kernel': 'rbf'}, 0.8486),\n",
              " ({'C': 10, 'gamma': 0.001, 'kernel': 'rbf'}, 0.8456),\n",
              " ({'C': 100, 'gamma': 0.01, 'kernel': 'rbf'}, 0.8422),\n",
              " ({'C': 1}, 0.8412),\n",
              " ({'C': 10}, 0.8398),\n",
              " ({'C': 100, 'gamma': 0.0001, 'kernel': 'rbf'}, 0.8396),\n",
              " ({'C': 10, 'gamma': 0.01, 'kernel': 'rbf'}, 0.8316),\n",
              " ({'C': 10, 'gamma': 0.0001, 'kernel': 'rbf'}, 0.8314),\n",
              " ({'C': 1, 'gamma': 0.001, 'kernel': 'rbf'}, 0.8314),\n",
              " ({'C': 100}, 0.8068),\n",
              " ({'C': 1, 'gamma': 0.0001, 'kernel': 'rbf'}, 0.794),\n",
              " ({'C': 100, 'gamma': 0.001, 'kernel': 'rbf'}, 0.6488)]"
            ]
          },
          "metadata": {
            "tags": []
          },
          "execution_count": 152
        }
      ]
    },
    {
      "cell_type": "code",
      "metadata": {
        "id": "apRX4CQID5Wo"
      },
      "source": [
        "# Choose the best model based on gridsearch results\r\n",
        "svm_bert_best_model = None\r\n",
        "if linear_svm_bert_pr[0][1] > rbf_svm_bert_pr[0][1]:\r\n",
        "  svm_bert_best_model = linear_svm_bert_grid.best_estimator_\r\n",
        "else:\r\n",
        "  svm_bert_best_model = rbf_svm_bert_grid.best_estimator_"
      ],
      "execution_count": 153,
      "outputs": []
    },
    {
      "cell_type": "code",
      "metadata": {
        "id": "s8S_cwFTD5Wo"
      },
      "source": [
        "svm_bert_pred = svm_bert_best_model.predict(bert_x_test)"
      ],
      "execution_count": 154,
      "outputs": []
    },
    {
      "cell_type": "code",
      "metadata": {
        "colab": {
          "base_uri": "https://localhost:8080/"
        },
        "id": "9eDfYVBHD5Wp",
        "outputId": "7d448224-bf30-40fc-f9f4-82658f3959ed"
      },
      "source": [
        "svm_bert_results = get_metrics(y_test, svm_bert_pred)\r\n",
        "print(svm_bert_results)"
      ],
      "execution_count": 155,
      "outputs": [
        {
          "output_type": "stream",
          "text": [
            "{'accuracy': '0.8474', 'auc': 0.847551987685341, 'precision': '0.8407668231611893', 'recall': '0.8578842315369262', 'fscore': '0.8492392807745506'}\n"
          ],
          "name": "stdout"
        }
      ]
    },
    {
      "cell_type": "code",
      "metadata": {
        "colab": {
          "base_uri": "https://localhost:8080/",
          "height": 279
        },
        "id": "T3nnuWq-D5Wp",
        "outputId": "9211442a-56e1-4c96-9356-c6c960698914"
      },
      "source": [
        "plot_roc(svm_bert_best_model, bert_x_test, y_test)"
      ],
      "execution_count": 156,
      "outputs": [
        {
          "output_type": "display_data",
          "data": {
            "image/png": "[encoded data removed]",
            "text/plain": [
              "<Figure size 432x288 with 1 Axes>"
            ]
          },
          "metadata": {
            "tags": [],
            "needs_background": "light"
          }
        }
      ]
    },
    {
      "cell_type": "code",
      "metadata": {
        "colab": {
          "base_uri": "https://localhost:8080/",
          "height": 279
        },
        "id": "AelyYB-9D5Wp",
        "outputId": "a6e95f38-79f5-4e88-8164-2b81c6d2ebb4"
      },
      "source": [
        "plot_cm(svm_bert_best_model, bert_x_test, y_test)"
      ],
      "execution_count": 157,
      "outputs": [
        {
          "output_type": "display_data",
          "data": {
            "image/png": "[encoded data removed]",
            "text/plain": [
              "<Figure size 432x288 with 2 Axes>"
            ]
          },
          "metadata": {
            "tags": [],
            "needs_background": "light"
          }
        }
      ]
    },
    {
      "cell_type": "code",
      "metadata": {
        "id": "tC0fnmuigmiU"
      },
      "source": [
        ""
      ],
      "execution_count": null,
      "outputs": []
    }
  ]
}